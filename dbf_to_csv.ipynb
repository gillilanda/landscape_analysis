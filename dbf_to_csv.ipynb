{
 "cells": [
  {
   "cell_type": "code",
   "execution_count": 1,
   "metadata": {},
   "outputs": [],
   "source": [
    "### input a folder of .dbf files\n",
    "### output a folder of .csv files\n",
    "\n",
    "import simpledbf\n",
    "import csv\n",
    "import os\n",
    "\n",
    "dbf_folder = r\"d:/tam/GIS_stuff/slope_shit\"\n",
    "csv_folder = r\"d:/tam/GIS_stuff/slope_shit/csv\""
   ]
  },
  {
   "cell_type": "code",
   "execution_count": 2,
   "metadata": {},
   "outputs": [],
   "source": [
    "def convert_to_csv(dbf_file):\n",
    "    db = simpledbf.Dbf5(dbf_file)\n",
    "    output_path = os.path.join(csv_folder, basin_name + \".csv\")\n",
    "    db.to_csv(output_path)\n",
    "    csv_file = output_path\n",
    "    return csv_file"
   ]
  },
  {
   "cell_type": "code",
   "execution_count": 3,
   "metadata": {
    "scrolled": true
   },
   "outputs": [],
   "source": [
    "for file in os.listdir(dbf_folder):\n",
    "    if file.endswith(\".dbf\"):\n",
    "        basin_name = os.path.splitext(file)[0]\n",
    "        path_name = os.path.join(csv_folder, basin_name+ \".csv\")\n",
    "        csv_file = convert_to_csv(dbf_folder + \"/\" + file)"
   ]
  },
  {
   "cell_type": "code",
   "execution_count": null,
   "metadata": {},
   "outputs": [],
   "source": []
  }
 ],
 "metadata": {
  "kernelspec": {
   "display_name": "Python 3",
   "language": "python",
   "name": "python3"
  },
  "language_info": {
   "codemirror_mode": {
    "name": "ipython",
    "version": 3
   },
   "file_extension": ".py",
   "mimetype": "text/x-python",
   "name": "python",
   "nbconvert_exporter": "python",
   "pygments_lexer": "ipython3",
   "version": "3.7.3"
  }
 },
 "nbformat": 4,
 "nbformat_minor": 2
}
